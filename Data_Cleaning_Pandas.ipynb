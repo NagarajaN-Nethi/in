{
  "nbformat": 4,
  "nbformat_minor": 0,
  "metadata": {
    "colab": {
      "name": "Data Cleaning Pandas.ipynb",
      "provenance": [],
      "collapsed_sections": [],
      "authorship_tag": "ABX9TyPmQrjNc3/aAPrBui/VBG/0",
      "include_colab_link": true
    },
    "kernelspec": {
      "name": "python3",
      "display_name": "Python 3"
    }
  },
  "cells": [
    {
      "cell_type": "markdown",
      "metadata": {
        "id": "view-in-github",
        "colab_type": "text"
      },
      "source": [
        "<a href=\"https://colab.research.google.com/github/NagarajaN-Nethi/in/blob/main/Data_Cleaning_Pandas.ipynb\" target=\"_parent\"><img src=\"https://colab.research.google.com/assets/colab-badge.svg\" alt=\"Open In Colab\"/></a>"
      ]
    },
    {
      "cell_type": "code",
      "metadata": {
        "id": "h5anU3a1CLnK"
      },
      "source": [
        "import pandas as pd\r\n",
        "import numpy as np"
      ],
      "execution_count": 1,
      "outputs": []
    },
    {
      "cell_type": "code",
      "metadata": {
        "id": "d0m8TR_1CS9e"
      },
      "source": [
        "df = pd.DataFrame({'From_To': ['LoNDon_paris', 'MAdrid_miLAN',\r\n",
        "'londON_StockhOlm',\r\n",
        "\r\n",
        "'Budapest_PaRis', 'Brussels_londOn'],\r\n",
        "'FlightNumber': [10045, np.nan, 10065, np.nan, 10085],\r\n",
        "'RecentDelays': [[23, 47], [], [24, 43, 87], [13], [67, 32]],\r\n",
        "'Airline': ['KLM(!)', '<Air France> (12)', '(British Airways. )',\r\n",
        "'12. Air France', '\"Swiss Air\"']})"
      ],
      "execution_count": 2,
      "outputs": []
    },
    {
      "cell_type": "code",
      "metadata": {
        "colab": {
          "base_uri": "https://localhost:8080/",
          "height": 203
        },
        "id": "ovUVVJnYCZnh",
        "outputId": "b98e552b-9f58-433b-c2d5-fa7b0f5d025d"
      },
      "source": [
        "df"
      ],
      "execution_count": 3,
      "outputs": [
        {
          "output_type": "execute_result",
          "data": {
            "text/html": [
              "<div>\n",
              "<style scoped>\n",
              "    .dataframe tbody tr th:only-of-type {\n",
              "        vertical-align: middle;\n",
              "    }\n",
              "\n",
              "    .dataframe tbody tr th {\n",
              "        vertical-align: top;\n",
              "    }\n",
              "\n",
              "    .dataframe thead th {\n",
              "        text-align: right;\n",
              "    }\n",
              "</style>\n",
              "<table border=\"1\" class=\"dataframe\">\n",
              "  <thead>\n",
              "    <tr style=\"text-align: right;\">\n",
              "      <th></th>\n",
              "      <th>From_To</th>\n",
              "      <th>FlightNumber</th>\n",
              "      <th>RecentDelays</th>\n",
              "      <th>Airline</th>\n",
              "    </tr>\n",
              "  </thead>\n",
              "  <tbody>\n",
              "    <tr>\n",
              "      <th>0</th>\n",
              "      <td>LoNDon_paris</td>\n",
              "      <td>10045.0</td>\n",
              "      <td>[23, 47]</td>\n",
              "      <td>KLM(!)</td>\n",
              "    </tr>\n",
              "    <tr>\n",
              "      <th>1</th>\n",
              "      <td>MAdrid_miLAN</td>\n",
              "      <td>NaN</td>\n",
              "      <td>[]</td>\n",
              "      <td>&lt;Air France&gt; (12)</td>\n",
              "    </tr>\n",
              "    <tr>\n",
              "      <th>2</th>\n",
              "      <td>londON_StockhOlm</td>\n",
              "      <td>10065.0</td>\n",
              "      <td>[24, 43, 87]</td>\n",
              "      <td>(British Airways. )</td>\n",
              "    </tr>\n",
              "    <tr>\n",
              "      <th>3</th>\n",
              "      <td>Budapest_PaRis</td>\n",
              "      <td>NaN</td>\n",
              "      <td>[13]</td>\n",
              "      <td>12. Air France</td>\n",
              "    </tr>\n",
              "    <tr>\n",
              "      <th>4</th>\n",
              "      <td>Brussels_londOn</td>\n",
              "      <td>10085.0</td>\n",
              "      <td>[67, 32]</td>\n",
              "      <td>\"Swiss Air\"</td>\n",
              "    </tr>\n",
              "  </tbody>\n",
              "</table>\n",
              "</div>"
            ],
            "text/plain": [
              "            From_To  FlightNumber  RecentDelays              Airline\n",
              "0      LoNDon_paris       10045.0      [23, 47]               KLM(!)\n",
              "1      MAdrid_miLAN           NaN            []    <Air France> (12)\n",
              "2  londON_StockhOlm       10065.0  [24, 43, 87]  (British Airways. )\n",
              "3    Budapest_PaRis           NaN          [13]       12. Air France\n",
              "4   Brussels_londOn       10085.0      [67, 32]          \"Swiss Air\""
            ]
          },
          "metadata": {
            "tags": []
          },
          "execution_count": 3
        }
      ]
    },
    {
      "cell_type": "code",
      "metadata": {
        "colab": {
          "base_uri": "https://localhost:8080/"
        },
        "id": "0pGnvLeNCgsy",
        "outputId": "6d5a8ef6-bff2-4e63-c6f5-14082d5d8462"
      },
      "source": [
        "df.info()"
      ],
      "execution_count": 4,
      "outputs": [
        {
          "output_type": "stream",
          "text": [
            "<class 'pandas.core.frame.DataFrame'>\n",
            "RangeIndex: 5 entries, 0 to 4\n",
            "Data columns (total 4 columns):\n",
            " #   Column        Non-Null Count  Dtype  \n",
            "---  ------        --------------  -----  \n",
            " 0   From_To       5 non-null      object \n",
            " 1   FlightNumber  3 non-null      float64\n",
            " 2   RecentDelays  5 non-null      object \n",
            " 3   Airline       5 non-null      object \n",
            "dtypes: float64(1), object(3)\n",
            "memory usage: 288.0+ bytes\n"
          ],
          "name": "stdout"
        }
      ]
    },
    {
      "cell_type": "markdown",
      "metadata": {
        "id": "HYXdwoKpHAp1"
      },
      "source": [
        "1. Some values in the the FlightNumber column are missing. These numbers are\r\n",
        "meant to increase by 10 with each row so 10055 and 10075 need to be put in\r\n",
        "place. Fill in these missing numbers and make the column an integer column\r\n",
        "(instead of a float column)."
      ]
    },
    {
      "cell_type": "code",
      "metadata": {
        "id": "iG_GhyXhCtK5"
      },
      "source": [
        "df['FlightNumber'] = df['FlightNumber'].interpolate().astype(int)"
      ],
      "execution_count": 5,
      "outputs": []
    },
    {
      "cell_type": "code",
      "metadata": {
        "colab": {
          "base_uri": "https://localhost:8080/",
          "height": 203
        },
        "id": "glUmO8dYC3wA",
        "outputId": "949cb5fd-bc55-4f29-bdc5-1c935eaed642"
      },
      "source": [
        "df"
      ],
      "execution_count": 6,
      "outputs": [
        {
          "output_type": "execute_result",
          "data": {
            "text/html": [
              "<div>\n",
              "<style scoped>\n",
              "    .dataframe tbody tr th:only-of-type {\n",
              "        vertical-align: middle;\n",
              "    }\n",
              "\n",
              "    .dataframe tbody tr th {\n",
              "        vertical-align: top;\n",
              "    }\n",
              "\n",
              "    .dataframe thead th {\n",
              "        text-align: right;\n",
              "    }\n",
              "</style>\n",
              "<table border=\"1\" class=\"dataframe\">\n",
              "  <thead>\n",
              "    <tr style=\"text-align: right;\">\n",
              "      <th></th>\n",
              "      <th>From_To</th>\n",
              "      <th>FlightNumber</th>\n",
              "      <th>RecentDelays</th>\n",
              "      <th>Airline</th>\n",
              "    </tr>\n",
              "  </thead>\n",
              "  <tbody>\n",
              "    <tr>\n",
              "      <th>0</th>\n",
              "      <td>LoNDon_paris</td>\n",
              "      <td>10045</td>\n",
              "      <td>[23, 47]</td>\n",
              "      <td>KLM(!)</td>\n",
              "    </tr>\n",
              "    <tr>\n",
              "      <th>1</th>\n",
              "      <td>MAdrid_miLAN</td>\n",
              "      <td>10055</td>\n",
              "      <td>[]</td>\n",
              "      <td>&lt;Air France&gt; (12)</td>\n",
              "    </tr>\n",
              "    <tr>\n",
              "      <th>2</th>\n",
              "      <td>londON_StockhOlm</td>\n",
              "      <td>10065</td>\n",
              "      <td>[24, 43, 87]</td>\n",
              "      <td>(British Airways. )</td>\n",
              "    </tr>\n",
              "    <tr>\n",
              "      <th>3</th>\n",
              "      <td>Budapest_PaRis</td>\n",
              "      <td>10075</td>\n",
              "      <td>[13]</td>\n",
              "      <td>12. Air France</td>\n",
              "    </tr>\n",
              "    <tr>\n",
              "      <th>4</th>\n",
              "      <td>Brussels_londOn</td>\n",
              "      <td>10085</td>\n",
              "      <td>[67, 32]</td>\n",
              "      <td>\"Swiss Air\"</td>\n",
              "    </tr>\n",
              "  </tbody>\n",
              "</table>\n",
              "</div>"
            ],
            "text/plain": [
              "            From_To  FlightNumber  RecentDelays              Airline\n",
              "0      LoNDon_paris         10045      [23, 47]               KLM(!)\n",
              "1      MAdrid_miLAN         10055            []    <Air France> (12)\n",
              "2  londON_StockhOlm         10065  [24, 43, 87]  (British Airways. )\n",
              "3    Budapest_PaRis         10075          [13]       12. Air France\n",
              "4   Brussels_londOn         10085      [67, 32]          \"Swiss Air\""
            ]
          },
          "metadata": {
            "tags": []
          },
          "execution_count": 6
        }
      ]
    },
    {
      "cell_type": "markdown",
      "metadata": {
        "id": "-0fFfybyHKIq"
      },
      "source": [
        "2. The From_To column would be better as two separate columns! Split each\r\n",
        "string on the underscore delimiter _ to give a new temporary DataFrame with\r\n",
        "the correct values. Assign the correct column names to this temporary\r\n",
        "DataFrame.\r\n",
        "\r\n",
        "3. Notice how the capitalisation of the city names is all mixed up in this\r\n",
        "temporary DataFrame. Standardise the strings so that only the first letter is\r\n",
        "uppercase (e.g. \"londON\" should become \"London\".)\r\n",
        "\r\n"
      ]
    },
    {
      "cell_type": "code",
      "metadata": {
        "id": "gSGRzp0hEegG"
      },
      "source": [
        "df1 = df.copy()"
      ],
      "execution_count": 7,
      "outputs": []
    },
    {
      "cell_type": "code",
      "metadata": {
        "colab": {
          "base_uri": "https://localhost:8080/",
          "height": 203
        },
        "id": "oEbzr6tTIhpk",
        "outputId": "2ab72c3d-72c7-4475-f75b-fabcd56e9671"
      },
      "source": [
        "df1"
      ],
      "execution_count": 8,
      "outputs": [
        {
          "output_type": "execute_result",
          "data": {
            "text/html": [
              "<div>\n",
              "<style scoped>\n",
              "    .dataframe tbody tr th:only-of-type {\n",
              "        vertical-align: middle;\n",
              "    }\n",
              "\n",
              "    .dataframe tbody tr th {\n",
              "        vertical-align: top;\n",
              "    }\n",
              "\n",
              "    .dataframe thead th {\n",
              "        text-align: right;\n",
              "    }\n",
              "</style>\n",
              "<table border=\"1\" class=\"dataframe\">\n",
              "  <thead>\n",
              "    <tr style=\"text-align: right;\">\n",
              "      <th></th>\n",
              "      <th>From_To</th>\n",
              "      <th>FlightNumber</th>\n",
              "      <th>RecentDelays</th>\n",
              "      <th>Airline</th>\n",
              "    </tr>\n",
              "  </thead>\n",
              "  <tbody>\n",
              "    <tr>\n",
              "      <th>0</th>\n",
              "      <td>LoNDon_paris</td>\n",
              "      <td>10045</td>\n",
              "      <td>[23, 47]</td>\n",
              "      <td>KLM(!)</td>\n",
              "    </tr>\n",
              "    <tr>\n",
              "      <th>1</th>\n",
              "      <td>MAdrid_miLAN</td>\n",
              "      <td>10055</td>\n",
              "      <td>[]</td>\n",
              "      <td>&lt;Air France&gt; (12)</td>\n",
              "    </tr>\n",
              "    <tr>\n",
              "      <th>2</th>\n",
              "      <td>londON_StockhOlm</td>\n",
              "      <td>10065</td>\n",
              "      <td>[24, 43, 87]</td>\n",
              "      <td>(British Airways. )</td>\n",
              "    </tr>\n",
              "    <tr>\n",
              "      <th>3</th>\n",
              "      <td>Budapest_PaRis</td>\n",
              "      <td>10075</td>\n",
              "      <td>[13]</td>\n",
              "      <td>12. Air France</td>\n",
              "    </tr>\n",
              "    <tr>\n",
              "      <th>4</th>\n",
              "      <td>Brussels_londOn</td>\n",
              "      <td>10085</td>\n",
              "      <td>[67, 32]</td>\n",
              "      <td>\"Swiss Air\"</td>\n",
              "    </tr>\n",
              "  </tbody>\n",
              "</table>\n",
              "</div>"
            ],
            "text/plain": [
              "            From_To  FlightNumber  RecentDelays              Airline\n",
              "0      LoNDon_paris         10045      [23, 47]               KLM(!)\n",
              "1      MAdrid_miLAN         10055            []    <Air France> (12)\n",
              "2  londON_StockhOlm         10065  [24, 43, 87]  (British Airways. )\n",
              "3    Budapest_PaRis         10075          [13]       12. Air France\n",
              "4   Brussels_londOn         10085      [67, 32]          \"Swiss Air\""
            ]
          },
          "metadata": {
            "tags": []
          },
          "execution_count": 8
        }
      ]
    },
    {
      "cell_type": "code",
      "metadata": {
        "id": "tkPbpM_XtyX9"
      },
      "source": [
        "df1['From'] = df['From_To'].str.split('_').str[0].str.capitalize()"
      ],
      "execution_count": 9,
      "outputs": []
    },
    {
      "cell_type": "code",
      "metadata": {
        "id": "wtFsIZkAvO0o"
      },
      "source": [
        "df1['To'] = df['From_To'].str.split('_').str[1].str.capitalize()"
      ],
      "execution_count": 10,
      "outputs": []
    },
    {
      "cell_type": "markdown",
      "metadata": {
        "id": "TeUd89xe2TKv"
      },
      "source": [
        "4. Delete the From_To column from df and attach the temporary DataFrame\r\n",
        "from the previous questions."
      ]
    },
    {
      "cell_type": "code",
      "metadata": {
        "id": "fo2ISIvIvWw4"
      },
      "source": [
        "df.drop('From_To', axis = 1, inplace = True)"
      ],
      "execution_count": 11,
      "outputs": []
    },
    {
      "cell_type": "code",
      "metadata": {
        "colab": {
          "base_uri": "https://localhost:8080/",
          "height": 203
        },
        "id": "Bbkk8mZhvXdt",
        "outputId": "424af2a6-df80-4670-b4ed-a003b81fe345"
      },
      "source": [
        "df1"
      ],
      "execution_count": 12,
      "outputs": [
        {
          "output_type": "execute_result",
          "data": {
            "text/html": [
              "<div>\n",
              "<style scoped>\n",
              "    .dataframe tbody tr th:only-of-type {\n",
              "        vertical-align: middle;\n",
              "    }\n",
              "\n",
              "    .dataframe tbody tr th {\n",
              "        vertical-align: top;\n",
              "    }\n",
              "\n",
              "    .dataframe thead th {\n",
              "        text-align: right;\n",
              "    }\n",
              "</style>\n",
              "<table border=\"1\" class=\"dataframe\">\n",
              "  <thead>\n",
              "    <tr style=\"text-align: right;\">\n",
              "      <th></th>\n",
              "      <th>From_To</th>\n",
              "      <th>FlightNumber</th>\n",
              "      <th>RecentDelays</th>\n",
              "      <th>Airline</th>\n",
              "      <th>From</th>\n",
              "      <th>To</th>\n",
              "    </tr>\n",
              "  </thead>\n",
              "  <tbody>\n",
              "    <tr>\n",
              "      <th>0</th>\n",
              "      <td>LoNDon_paris</td>\n",
              "      <td>10045</td>\n",
              "      <td>[23, 47]</td>\n",
              "      <td>KLM(!)</td>\n",
              "      <td>London</td>\n",
              "      <td>Paris</td>\n",
              "    </tr>\n",
              "    <tr>\n",
              "      <th>1</th>\n",
              "      <td>MAdrid_miLAN</td>\n",
              "      <td>10055</td>\n",
              "      <td>[]</td>\n",
              "      <td>&lt;Air France&gt; (12)</td>\n",
              "      <td>Madrid</td>\n",
              "      <td>Milan</td>\n",
              "    </tr>\n",
              "    <tr>\n",
              "      <th>2</th>\n",
              "      <td>londON_StockhOlm</td>\n",
              "      <td>10065</td>\n",
              "      <td>[24, 43, 87]</td>\n",
              "      <td>(British Airways. )</td>\n",
              "      <td>London</td>\n",
              "      <td>Stockholm</td>\n",
              "    </tr>\n",
              "    <tr>\n",
              "      <th>3</th>\n",
              "      <td>Budapest_PaRis</td>\n",
              "      <td>10075</td>\n",
              "      <td>[13]</td>\n",
              "      <td>12. Air France</td>\n",
              "      <td>Budapest</td>\n",
              "      <td>Paris</td>\n",
              "    </tr>\n",
              "    <tr>\n",
              "      <th>4</th>\n",
              "      <td>Brussels_londOn</td>\n",
              "      <td>10085</td>\n",
              "      <td>[67, 32]</td>\n",
              "      <td>\"Swiss Air\"</td>\n",
              "      <td>Brussels</td>\n",
              "      <td>London</td>\n",
              "    </tr>\n",
              "  </tbody>\n",
              "</table>\n",
              "</div>"
            ],
            "text/plain": [
              "            From_To  FlightNumber  ...      From         To\n",
              "0      LoNDon_paris         10045  ...    London      Paris\n",
              "1      MAdrid_miLAN         10055  ...    Madrid      Milan\n",
              "2  londON_StockhOlm         10065  ...    London  Stockholm\n",
              "3    Budapest_PaRis         10075  ...  Budapest      Paris\n",
              "4   Brussels_londOn         10085  ...  Brussels     London\n",
              "\n",
              "[5 rows x 6 columns]"
            ]
          },
          "metadata": {
            "tags": []
          },
          "execution_count": 12
        }
      ]
    },
    {
      "cell_type": "code",
      "metadata": {
        "id": "wJylUNpXvnvT"
      },
      "source": [
        "df = pd.concat([df, df1[['From', 'To']]], axis=1)"
      ],
      "execution_count": 13,
      "outputs": []
    },
    {
      "cell_type": "code",
      "metadata": {
        "colab": {
          "base_uri": "https://localhost:8080/",
          "height": 203
        },
        "id": "VME32k55v0bJ",
        "outputId": "83eb6ccd-c379-4c16-e734-c8d2fad788d2"
      },
      "source": [
        "df"
      ],
      "execution_count": 14,
      "outputs": [
        {
          "output_type": "execute_result",
          "data": {
            "text/html": [
              "<div>\n",
              "<style scoped>\n",
              "    .dataframe tbody tr th:only-of-type {\n",
              "        vertical-align: middle;\n",
              "    }\n",
              "\n",
              "    .dataframe tbody tr th {\n",
              "        vertical-align: top;\n",
              "    }\n",
              "\n",
              "    .dataframe thead th {\n",
              "        text-align: right;\n",
              "    }\n",
              "</style>\n",
              "<table border=\"1\" class=\"dataframe\">\n",
              "  <thead>\n",
              "    <tr style=\"text-align: right;\">\n",
              "      <th></th>\n",
              "      <th>FlightNumber</th>\n",
              "      <th>RecentDelays</th>\n",
              "      <th>Airline</th>\n",
              "      <th>From</th>\n",
              "      <th>To</th>\n",
              "    </tr>\n",
              "  </thead>\n",
              "  <tbody>\n",
              "    <tr>\n",
              "      <th>0</th>\n",
              "      <td>10045</td>\n",
              "      <td>[23, 47]</td>\n",
              "      <td>KLM(!)</td>\n",
              "      <td>London</td>\n",
              "      <td>Paris</td>\n",
              "    </tr>\n",
              "    <tr>\n",
              "      <th>1</th>\n",
              "      <td>10055</td>\n",
              "      <td>[]</td>\n",
              "      <td>&lt;Air France&gt; (12)</td>\n",
              "      <td>Madrid</td>\n",
              "      <td>Milan</td>\n",
              "    </tr>\n",
              "    <tr>\n",
              "      <th>2</th>\n",
              "      <td>10065</td>\n",
              "      <td>[24, 43, 87]</td>\n",
              "      <td>(British Airways. )</td>\n",
              "      <td>London</td>\n",
              "      <td>Stockholm</td>\n",
              "    </tr>\n",
              "    <tr>\n",
              "      <th>3</th>\n",
              "      <td>10075</td>\n",
              "      <td>[13]</td>\n",
              "      <td>12. Air France</td>\n",
              "      <td>Budapest</td>\n",
              "      <td>Paris</td>\n",
              "    </tr>\n",
              "    <tr>\n",
              "      <th>4</th>\n",
              "      <td>10085</td>\n",
              "      <td>[67, 32]</td>\n",
              "      <td>\"Swiss Air\"</td>\n",
              "      <td>Brussels</td>\n",
              "      <td>London</td>\n",
              "    </tr>\n",
              "  </tbody>\n",
              "</table>\n",
              "</div>"
            ],
            "text/plain": [
              "   FlightNumber  RecentDelays              Airline      From         To\n",
              "0         10045      [23, 47]               KLM(!)    London      Paris\n",
              "1         10055            []    <Air France> (12)    Madrid      Milan\n",
              "2         10065  [24, 43, 87]  (British Airways. )    London  Stockholm\n",
              "3         10075          [13]       12. Air France  Budapest      Paris\n",
              "4         10085      [67, 32]          \"Swiss Air\"  Brussels     London"
            ]
          },
          "metadata": {
            "tags": []
          },
          "execution_count": 14
        }
      ]
    },
    {
      "cell_type": "markdown",
      "metadata": {
        "id": "n3yoVzLoVtZW"
      },
      "source": [
        "5. In the RecentDelays column, the values have been entered into the\r\n",
        "DataFrame as a list. We would like each first value in its own column, each\r\n",
        "second value in its own column, and so on. If there isn't an Nth value, the valueshould be NaN.\r\n",
        "Expand the Series of lists into a DataFrame named delays, rename the columns\r\n",
        "delay_1, delay_2, etc. and replace the unwanted RecentDelays column in df\r\n",
        "with delays."
      ]
    },
    {
      "cell_type": "code",
      "metadata": {
        "id": "LVykgaNIv07G"
      },
      "source": [
        "delays = pd.DataFrame(df.RecentDelays.values.tolist())"
      ],
      "execution_count": 15,
      "outputs": []
    },
    {
      "cell_type": "code",
      "metadata": {
        "colab": {
          "base_uri": "https://localhost:8080/",
          "height": 203
        },
        "id": "gu5l3J4EUtjk",
        "outputId": "d486c1e3-4d43-47a5-f102-eb3f3795bdae"
      },
      "source": [
        "delays.columns = ['delay_1', 'delay_2', 'delay_3']\r\n",
        "delays"
      ],
      "execution_count": 16,
      "outputs": [
        {
          "output_type": "execute_result",
          "data": {
            "text/html": [
              "<div>\n",
              "<style scoped>\n",
              "    .dataframe tbody tr th:only-of-type {\n",
              "        vertical-align: middle;\n",
              "    }\n",
              "\n",
              "    .dataframe tbody tr th {\n",
              "        vertical-align: top;\n",
              "    }\n",
              "\n",
              "    .dataframe thead th {\n",
              "        text-align: right;\n",
              "    }\n",
              "</style>\n",
              "<table border=\"1\" class=\"dataframe\">\n",
              "  <thead>\n",
              "    <tr style=\"text-align: right;\">\n",
              "      <th></th>\n",
              "      <th>delay_1</th>\n",
              "      <th>delay_2</th>\n",
              "      <th>delay_3</th>\n",
              "    </tr>\n",
              "  </thead>\n",
              "  <tbody>\n",
              "    <tr>\n",
              "      <th>0</th>\n",
              "      <td>23.0</td>\n",
              "      <td>47.0</td>\n",
              "      <td>NaN</td>\n",
              "    </tr>\n",
              "    <tr>\n",
              "      <th>1</th>\n",
              "      <td>NaN</td>\n",
              "      <td>NaN</td>\n",
              "      <td>NaN</td>\n",
              "    </tr>\n",
              "    <tr>\n",
              "      <th>2</th>\n",
              "      <td>24.0</td>\n",
              "      <td>43.0</td>\n",
              "      <td>87.0</td>\n",
              "    </tr>\n",
              "    <tr>\n",
              "      <th>3</th>\n",
              "      <td>13.0</td>\n",
              "      <td>NaN</td>\n",
              "      <td>NaN</td>\n",
              "    </tr>\n",
              "    <tr>\n",
              "      <th>4</th>\n",
              "      <td>67.0</td>\n",
              "      <td>32.0</td>\n",
              "      <td>NaN</td>\n",
              "    </tr>\n",
              "  </tbody>\n",
              "</table>\n",
              "</div>"
            ],
            "text/plain": [
              "   delay_1  delay_2  delay_3\n",
              "0     23.0     47.0      NaN\n",
              "1      NaN      NaN      NaN\n",
              "2     24.0     43.0     87.0\n",
              "3     13.0      NaN      NaN\n",
              "4     67.0     32.0      NaN"
            ]
          },
          "metadata": {
            "tags": []
          },
          "execution_count": 16
        }
      ]
    },
    {
      "cell_type": "code",
      "metadata": {
        "colab": {
          "base_uri": "https://localhost:8080/"
        },
        "id": "NCBelBAhUwlx",
        "outputId": "8f0a97c5-35cf-4dfa-9a44-0e6852f79987"
      },
      "source": [
        "df.pop('RecentDelays')"
      ],
      "execution_count": 17,
      "outputs": [
        {
          "output_type": "execute_result",
          "data": {
            "text/plain": [
              "0        [23, 47]\n",
              "1              []\n",
              "2    [24, 43, 87]\n",
              "3            [13]\n",
              "4        [67, 32]\n",
              "Name: RecentDelays, dtype: object"
            ]
          },
          "metadata": {
            "tags": []
          },
          "execution_count": 17
        }
      ]
    },
    {
      "cell_type": "code",
      "metadata": {
        "colab": {
          "base_uri": "https://localhost:8080/",
          "height": 203
        },
        "id": "bX6HeLNOVHDX",
        "outputId": "99c5d487-566a-48a6-ffa4-f91650ff178d"
      },
      "source": [
        "df = pd.concat([df, delays[['delay_1', 'delay_2', 'delay_3']]], axis=1)\r\n",
        "df"
      ],
      "execution_count": 18,
      "outputs": [
        {
          "output_type": "execute_result",
          "data": {
            "text/html": [
              "<div>\n",
              "<style scoped>\n",
              "    .dataframe tbody tr th:only-of-type {\n",
              "        vertical-align: middle;\n",
              "    }\n",
              "\n",
              "    .dataframe tbody tr th {\n",
              "        vertical-align: top;\n",
              "    }\n",
              "\n",
              "    .dataframe thead th {\n",
              "        text-align: right;\n",
              "    }\n",
              "</style>\n",
              "<table border=\"1\" class=\"dataframe\">\n",
              "  <thead>\n",
              "    <tr style=\"text-align: right;\">\n",
              "      <th></th>\n",
              "      <th>FlightNumber</th>\n",
              "      <th>Airline</th>\n",
              "      <th>From</th>\n",
              "      <th>To</th>\n",
              "      <th>delay_1</th>\n",
              "      <th>delay_2</th>\n",
              "      <th>delay_3</th>\n",
              "    </tr>\n",
              "  </thead>\n",
              "  <tbody>\n",
              "    <tr>\n",
              "      <th>0</th>\n",
              "      <td>10045</td>\n",
              "      <td>KLM(!)</td>\n",
              "      <td>London</td>\n",
              "      <td>Paris</td>\n",
              "      <td>23.0</td>\n",
              "      <td>47.0</td>\n",
              "      <td>NaN</td>\n",
              "    </tr>\n",
              "    <tr>\n",
              "      <th>1</th>\n",
              "      <td>10055</td>\n",
              "      <td>&lt;Air France&gt; (12)</td>\n",
              "      <td>Madrid</td>\n",
              "      <td>Milan</td>\n",
              "      <td>NaN</td>\n",
              "      <td>NaN</td>\n",
              "      <td>NaN</td>\n",
              "    </tr>\n",
              "    <tr>\n",
              "      <th>2</th>\n",
              "      <td>10065</td>\n",
              "      <td>(British Airways. )</td>\n",
              "      <td>London</td>\n",
              "      <td>Stockholm</td>\n",
              "      <td>24.0</td>\n",
              "      <td>43.0</td>\n",
              "      <td>87.0</td>\n",
              "    </tr>\n",
              "    <tr>\n",
              "      <th>3</th>\n",
              "      <td>10075</td>\n",
              "      <td>12. Air France</td>\n",
              "      <td>Budapest</td>\n",
              "      <td>Paris</td>\n",
              "      <td>13.0</td>\n",
              "      <td>NaN</td>\n",
              "      <td>NaN</td>\n",
              "    </tr>\n",
              "    <tr>\n",
              "      <th>4</th>\n",
              "      <td>10085</td>\n",
              "      <td>\"Swiss Air\"</td>\n",
              "      <td>Brussels</td>\n",
              "      <td>London</td>\n",
              "      <td>67.0</td>\n",
              "      <td>32.0</td>\n",
              "      <td>NaN</td>\n",
              "    </tr>\n",
              "  </tbody>\n",
              "</table>\n",
              "</div>"
            ],
            "text/plain": [
              "   FlightNumber              Airline      From  ... delay_1  delay_2  delay_3\n",
              "0         10045               KLM(!)    London  ...    23.0     47.0      NaN\n",
              "1         10055    <Air France> (12)    Madrid  ...     NaN      NaN      NaN\n",
              "2         10065  (British Airways. )    London  ...    24.0     43.0     87.0\n",
              "3         10075       12. Air France  Budapest  ...    13.0      NaN      NaN\n",
              "4         10085          \"Swiss Air\"  Brussels  ...    67.0     32.0      NaN\n",
              "\n",
              "[5 rows x 7 columns]"
            ]
          },
          "metadata": {
            "tags": []
          },
          "execution_count": 18
        }
      ]
    }
  ]
}