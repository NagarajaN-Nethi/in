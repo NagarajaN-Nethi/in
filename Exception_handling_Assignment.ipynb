{
  "nbformat": 4,
  "nbformat_minor": 0,
  "metadata": {
    "colab": {
      "name": "Exception handling Assignment.ipynb",
      "provenance": [],
      "collapsed_sections": [],
      "authorship_tag": "ABX9TyOuA0R58YQUGp9F1BCzM7HG",
      "include_colab_link": true
    },
    "kernelspec": {
      "name": "python3",
      "display_name": "Python 3"
    }
  },
  "cells": [
    {
      "cell_type": "markdown",
      "metadata": {
        "id": "view-in-github",
        "colab_type": "text"
      },
      "source": [
        "<a href=\"https://colab.research.google.com/github/NagarajaN-Nethi/in/blob/main/Exception_handling_Assignment.ipynb\" target=\"_parent\"><img src=\"https://colab.research.google.com/assets/colab-badge.svg\" alt=\"Open In Colab\"/></a>"
      ]
    },
    {
      "cell_type": "markdown",
      "metadata": {
        "id": "hjYHGa6nL7ST"
      },
      "source": [
        "1. Write a function to compute 5/0 and use try/except to catch the exceptions.\r\n"
      ]
    },
    {
      "cell_type": "code",
      "metadata": {
        "id": "HVGinSyobc7k"
      },
      "source": [
        "def divide(x, y):\r\n",
        "\r\n",
        "  try:\r\n",
        "    return x / y\r\n",
        "  except :\r\n",
        "    raise ZeroDivisionError\r\n",
        "    #print('ZeroDivisionError!')"
      ],
      "execution_count": 1,
      "outputs": []
    },
    {
      "cell_type": "code",
      "metadata": {
        "colab": {
          "base_uri": "https://localhost:8080/"
        },
        "id": "hiUp5uFFZT4W",
        "outputId": "027b6f54-6cce-414e-be24-2b0466f86d54"
      },
      "source": [
        "divide(5, 2)"
      ],
      "execution_count": 2,
      "outputs": [
        {
          "output_type": "execute_result",
          "data": {
            "text/plain": [
              "2.5"
            ]
          },
          "metadata": {
            "tags": []
          },
          "execution_count": 2
        }
      ]
    },
    {
      "cell_type": "code",
      "metadata": {
        "colab": {
          "base_uri": "https://localhost:8080/",
          "height": 408
        },
        "id": "g20YE3dxZkRr",
        "outputId": "8c17f828-888d-418b-f71f-c52b8d6ecbbb"
      },
      "source": [
        "divide(5, 0)"
      ],
      "execution_count": 3,
      "outputs": [
        {
          "output_type": "error",
          "ename": "ZeroDivisionError",
          "evalue": "ignored",
          "traceback": [
            "\u001b[0;31m---------------------------------------------------------------------------\u001b[0m",
            "\u001b[0;31mZeroDivisionError\u001b[0m                         Traceback (most recent call last)",
            "\u001b[0;32m<ipython-input-1-d7daf608c547>\u001b[0m in \u001b[0;36mdivide\u001b[0;34m(x, y)\u001b[0m\n\u001b[1;32m      3\u001b[0m   \u001b[0;32mtry\u001b[0m\u001b[0;34m:\u001b[0m\u001b[0;34m\u001b[0m\u001b[0;34m\u001b[0m\u001b[0m\n\u001b[0;32m----> 4\u001b[0;31m     \u001b[0;32mreturn\u001b[0m \u001b[0mx\u001b[0m \u001b[0;34m/\u001b[0m \u001b[0my\u001b[0m\u001b[0;34m\u001b[0m\u001b[0;34m\u001b[0m\u001b[0m\n\u001b[0m\u001b[1;32m      5\u001b[0m   \u001b[0;32mexcept\u001b[0m \u001b[0;34m:\u001b[0m\u001b[0;34m\u001b[0m\u001b[0;34m\u001b[0m\u001b[0m\n",
            "\u001b[0;31mZeroDivisionError\u001b[0m: division by zero",
            "\nDuring handling of the above exception, another exception occurred:\n",
            "\u001b[0;31mZeroDivisionError\u001b[0m                         Traceback (most recent call last)",
            "\u001b[0;32m<ipython-input-3-41880823ce33>\u001b[0m in \u001b[0;36m<module>\u001b[0;34m()\u001b[0m\n\u001b[0;32m----> 1\u001b[0;31m \u001b[0mdivide\u001b[0m\u001b[0;34m(\u001b[0m\u001b[0;36m5\u001b[0m\u001b[0;34m,\u001b[0m \u001b[0;36m0\u001b[0m\u001b[0;34m)\u001b[0m\u001b[0;34m\u001b[0m\u001b[0;34m\u001b[0m\u001b[0m\n\u001b[0m",
            "\u001b[0;32m<ipython-input-1-d7daf608c547>\u001b[0m in \u001b[0;36mdivide\u001b[0;34m(x, y)\u001b[0m\n\u001b[1;32m      4\u001b[0m     \u001b[0;32mreturn\u001b[0m \u001b[0mx\u001b[0m \u001b[0;34m/\u001b[0m \u001b[0my\u001b[0m\u001b[0;34m\u001b[0m\u001b[0;34m\u001b[0m\u001b[0m\n\u001b[1;32m      5\u001b[0m   \u001b[0;32mexcept\u001b[0m \u001b[0;34m:\u001b[0m\u001b[0;34m\u001b[0m\u001b[0;34m\u001b[0m\u001b[0m\n\u001b[0;32m----> 6\u001b[0;31m     \u001b[0;32mraise\u001b[0m \u001b[0mZeroDivisionError\u001b[0m\u001b[0;34m\u001b[0m\u001b[0;34m\u001b[0m\u001b[0m\n\u001b[0m\u001b[1;32m      7\u001b[0m     \u001b[0;31m#print('ZeroDivisionError!')\u001b[0m\u001b[0;34m\u001b[0m\u001b[0;34m\u001b[0m\u001b[0;34m\u001b[0m\u001b[0m\n",
            "\u001b[0;31mZeroDivisionError\u001b[0m: "
          ]
        }
      ]
    },
    {
      "cell_type": "markdown",
      "metadata": {
        "id": "cUEFoh_4gyKQ"
      },
      "source": [
        "2. Implement a Python program to generate all sentences where subject is in\r\n",
        "[\"Americans\", \"Indians\"] and verb is in [\"Play\", \"watch\"] and the object is in\r\n",
        "[\"Baseball\",\"cricket\"]."
      ]
    },
    {
      "cell_type": "code",
      "metadata": {
        "colab": {
          "base_uri": "https://localhost:8080/"
        },
        "id": "r5YygKe1a-rq",
        "outputId": "2a384eae-b746-4519-fd45-ab4964df1c16"
      },
      "source": [
        "subjects=[\"Americans \",\"Indians\"]\r\n",
        "verbs=[\"play\",\"watch\"]\r\n",
        "objects=[\"Baseball\",\"Cricket\"]\r\n",
        "Syntax = [(Sub+' '+vrb+' '+Objct+\".\") for Sub in subjects for vrb in verbs for Objct in objects]\r\n",
        "print(\"Output:\")\r\n",
        "\r\n",
        "for syn in Syntax:    \r\n",
        "    print(syn)"
      ],
      "execution_count": 4,
      "outputs": [
        {
          "output_type": "stream",
          "text": [
            "Output:\n",
            "Americans  play Baseball.\n",
            "Americans  play Cricket.\n",
            "Americans  watch Baseball.\n",
            "Americans  watch Cricket.\n",
            "Indians play Baseball.\n",
            "Indians play Cricket.\n",
            "Indians watch Baseball.\n",
            "Indians watch Cricket.\n"
          ],
          "name": "stdout"
        }
      ]
    }
  ]
}