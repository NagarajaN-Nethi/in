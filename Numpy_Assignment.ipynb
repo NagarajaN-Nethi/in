{
  "nbformat": 4,
  "nbformat_minor": 0,
  "metadata": {
    "colab": {
      "name": "Numpy Assignment.ipynb",
      "provenance": [],
      "collapsed_sections": [],
      "authorship_tag": "ABX9TyMY8uL9IM8KXRWADLsQeebf",
      "include_colab_link": true
    },
    "kernelspec": {
      "name": "python3",
      "display_name": "Python 3"
    }
  },
  "cells": [
    {
      "cell_type": "markdown",
      "metadata": {
        "id": "view-in-github",
        "colab_type": "text"
      },
      "source": [
        "<a href=\"https://colab.research.google.com/github/NagarajaN-Nethi/in/blob/main/Numpy_Assignment.ipynb\" target=\"_parent\"><img src=\"https://colab.research.google.com/assets/colab-badge.svg\" alt=\"Open In Colab\"/></a>"
      ]
    },
    {
      "cell_type": "markdown",
      "metadata": {
        "id": "MTcY24RjYJSR"
      },
      "source": [
        "Write a function so that the columns of the output matrix are powers of the input\r\n",
        "vector.\r\n",
        "The order of the powers is determined by the increasing boolean argument. Specifically, when\r\n",
        "increasing is False, the i-th output column is the input vector raised element-wise to the power\r\n",
        "of N - i - 1.\r\n",
        "\r\n",
        "HINT: Such a matrix with a geometric progression in each row is named for Alexandre-\r\n",
        "Theophile Vandermonde.\r\n"
      ]
    },
    {
      "cell_type": "code",
      "metadata": {
        "id": "cpH0Ym6WWoCs"
      },
      "source": [
        "def vandermonde(input_vector, n, increasing = True):\r\n",
        "    import numpy as np\r\n",
        "    input_vector = np.array(input_vector)\r\n",
        "    if increasing == False:\r\n",
        "        op_matx = np.array([x**(n-1-i) for x in input_vector for i in range(n)]).reshape(input_vector.size,n)\r\n",
        "    else:\r\n",
        "        op_matx = np.array([x**i for x in input_vector for i in range(n)]).reshape(input_vector.size,n)\r\n",
        "    \r\n",
        "    return op_matx    "
      ],
      "execution_count": 1,
      "outputs": []
    },
    {
      "cell_type": "code",
      "metadata": {
        "id": "uPH9cuyFW3vb",
        "colab": {
          "base_uri": "https://localhost:8080/"
        },
        "outputId": "9594df83-fbf0-4f5b-b54d-28ef0acc920b"
      },
      "source": [
        "a = [2, 4, 6, 8]\r\n",
        "vandermonde(a, 4, False)"
      ],
      "execution_count": 2,
      "outputs": [
        {
          "output_type": "execute_result",
          "data": {
            "text/plain": [
              "array([[  8,   4,   2,   1],\n",
              "       [ 64,  16,   4,   1],\n",
              "       [216,  36,   6,   1],\n",
              "       [512,  64,   8,   1]])"
            ]
          },
          "metadata": {
            "tags": []
          },
          "execution_count": 2
        }
      ]
    },
    {
      "cell_type": "code",
      "metadata": {
        "id": "U9QKw75CWsuS",
        "colab": {
          "base_uri": "https://localhost:8080/"
        },
        "outputId": "cb8b591b-9de6-4b45-9838-d3547bcdc6bf"
      },
      "source": [
        "vandermonde(a, 4)"
      ],
      "execution_count": 3,
      "outputs": [
        {
          "output_type": "execute_result",
          "data": {
            "text/plain": [
              "array([[  1,   2,   4,   8],\n",
              "       [  1,   4,  16,  64],\n",
              "       [  1,   6,  36, 216],\n",
              "       [  1,   8,  64, 512]])"
            ]
          },
          "metadata": {
            "tags": []
          },
          "execution_count": 3
        }
      ]
    },
    {
      "cell_type": "code",
      "metadata": {
        "colab": {
          "base_uri": "https://localhost:8080/"
        },
        "id": "o8zebNC0XP5Z",
        "outputId": "e8a6795d-2e77-47b8-b540-4815b402f82f"
      },
      "source": [
        "np.vander(x, increasing = True)"
      ],
      "execution_count": null,
      "outputs": [
        {
          "output_type": "execute_result",
          "data": {
            "text/plain": [
              "array([[   1,    2,    4,    8,   16],\n",
              "       [   1,    3,    9,   27,   81],\n",
              "       [   1,    4,   16,   64,  256],\n",
              "       [   1,    5,   25,  125,  625],\n",
              "       [   1,    6,   36,  216, 1296]])"
            ]
          },
          "metadata": {
            "tags": []
          },
          "execution_count": 18
        }
      ]
    },
    {
      "cell_type": "markdown",
      "metadata": {
        "id": "MtunkgkE3DN7"
      },
      "source": [
        "Problem Statement 2:\r\n",
        "Given a sequence of n values x1, x2, ..., xn and a window size k>0, the k-th moving average of\r\n",
        "the given sequence is defined as follows:\r\n",
        "The moving average sequence has n-k+1 elements as shown below.\r\n",
        "The moving averages with k=4 of a ten-value sequence (n=10) is shown below\r\n",
        "i 1 2 3 4 5 6 7 8 9 10\r\n",
        "===== == == == == == == == == == ==\r\n",
        "Input 10 20 30 40 50 60 70 80 90 100\r\n",
        "y1 25 = (10+20+30+40)/4\r\n",
        "y2 35 = (20+30+40+50)/4\r\n",
        "y3 45 = (30+40+50+60)/4\r\n",
        "y4 55 = (40+50+60+70)/4\r\n",
        "y5 65 = (50+60+70+80)/4\r\n",
        "y6 75 = (60+70+80+90)/4\r\n",
        "y7 85 = (70+80+90+100)/4\r\n",
        "Thus, the moving average sequence has n-k+1=10-4+1=7 values.\r\n",
        "\r\n",
        "Question:\r\n",
        "Write a function to find moving average in an array over a window:\r\n",
        "Test it over [3, 5, 7, 2, 8, 10, 11, 65, 72, 81, 99, 100, 150] and window of 3."
      ]
    },
    {
      "cell_type": "code",
      "metadata": {
        "id": "RLF6wX-7X1el"
      },
      "source": [
        "import numpy as np"
      ],
      "execution_count": 4,
      "outputs": []
    },
    {
      "cell_type": "code",
      "metadata": {
        "colab": {
          "base_uri": "https://localhost:8080/"
        },
        "id": "oi7J_LM33GE6",
        "outputId": "9bc32022-65b9-4fa3-9947-44ab5fc8fb88"
      },
      "source": [
        "test = np.array([3, 5, 7, 2, 8, 10, 11, 65, 72, 81, 99, 100, 150])\r\n",
        "test"
      ],
      "execution_count": 5,
      "outputs": [
        {
          "output_type": "execute_result",
          "data": {
            "text/plain": [
              "array([  3,   5,   7,   2,   8,  10,  11,  65,  72,  81,  99, 100, 150])"
            ]
          },
          "metadata": {
            "tags": []
          },
          "execution_count": 5
        }
      ]
    },
    {
      "cell_type": "code",
      "metadata": {
        "id": "IA5nmZxi3HMZ"
      },
      "source": [
        "def moving_avg(array, window, dropna = True):\r\n",
        "    '''\r\n",
        "    array : np.array\r\n",
        "    winwos : SIZE OF WINDOWS\r\n",
        "    '''\r\n",
        "    import numpy as np\r\n",
        "    import pandas as pd\r\n",
        "    if isinstance(array,(np.ndarray, np.generic)) :\r\n",
        "        if dropna == True:\r\n",
        "            \r\n",
        "            return np.array(pd.Series(array).rolling(window).mean().dropna())\r\n",
        "            \r\n",
        "        else: return np.array(pd.Series(array).rolling(window).mean())\r\n",
        "    else: print('Not an Numpy array. Please enter array')"
      ],
      "execution_count": 6,
      "outputs": []
    },
    {
      "cell_type": "code",
      "metadata": {
        "colab": {
          "base_uri": "https://localhost:8080/"
        },
        "id": "68t2pzOp3IS4",
        "outputId": "0adfd5f8-7a96-42df-c045-1f7d326df0ff"
      },
      "source": [
        "moving_avg(test,3, True)"
      ],
      "execution_count": 7,
      "outputs": [
        {
          "output_type": "execute_result",
          "data": {
            "text/plain": [
              "array([  5.        ,   4.66666667,   5.66666667,   6.66666667,\n",
              "         9.66666667,  28.66666667,  49.33333333,  72.66666667,\n",
              "        84.        ,  93.33333333, 116.33333333])"
            ]
          },
          "metadata": {
            "tags": []
          },
          "execution_count": 7
        }
      ]
    }
  ]
}