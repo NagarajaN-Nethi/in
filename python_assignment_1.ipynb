{
  "nbformat": 4,
  "nbformat_minor": 0,
  "metadata": {
    "colab": {
      "name": "python assignment 1.ipynb",
      "provenance": [],
      "collapsed_sections": [],
      "authorship_tag": "ABX9TyP/GrkU2BG/80aUUb+nKiSl",
      "include_colab_link": true
    },
    "kernelspec": {
      "name": "python3",
      "display_name": "Python 3"
    }
  },
  "cells": [
    {
      "cell_type": "markdown",
      "metadata": {
        "id": "view-in-github",
        "colab_type": "text"
      },
      "source": [
        "<a href=\"https://colab.research.google.com/github/NagarajaN-Nethi/in/blob/main/python_assignment_1.ipynb\" target=\"_parent\"><img src=\"https://colab.research.google.com/assets/colab-badge.svg\" alt=\"Open In Colab\"/></a>"
      ]
    },
    {
      "cell_type": "markdown",
      "metadata": {
        "id": "EgeHkoy6m2kb"
      },
      "source": [
        "1. Write a program which will find all such numbers which are divisible by 7 but are not a multiple of 5, between 2000 and 3200 (both included). The numbers obtained should be printed\n",
        "in a comma-separated sequence on a single line."
      ]
    },
    {
      "cell_type": "code",
      "metadata": {
        "id": "0o3BzV3_nNea"
      },
      "source": [
        "def div5_notmultiple5(start, end):\n",
        "  '''\n",
        "  start: starting number for the list\n",
        "  \n",
        "  end: ending number for the list\n",
        "  \n",
        "  '''\n",
        "  list1 = []\n",
        "  for i in range(2000, 3201):\n",
        "    if (i % 7 == 0) and (i % 5 != 0):\n",
        "      list1.append(str(i))\n",
        "  return print(','.join(list1))"
      ],
      "execution_count": 1,
      "outputs": []
    },
    {
      "cell_type": "code",
      "metadata": {
        "colab": {
          "base_uri": "https://localhost:8080/"
        },
        "id": "qvB1dbmdn1PT",
        "outputId": "c7626b62-7046-4a5e-f6dd-00189c8819dc"
      },
      "source": [
        "div5_notmultiple5(2000, 3201)"
      ],
      "execution_count": 2,
      "outputs": [
        {
          "output_type": "stream",
          "text": [
            "2002,2009,2016,2023,2037,2044,2051,2058,2072,2079,2086,2093,2107,2114,2121,2128,2142,2149,2156,2163,2177,2184,2191,2198,2212,2219,2226,2233,2247,2254,2261,2268,2282,2289,2296,2303,2317,2324,2331,2338,2352,2359,2366,2373,2387,2394,2401,2408,2422,2429,2436,2443,2457,2464,2471,2478,2492,2499,2506,2513,2527,2534,2541,2548,2562,2569,2576,2583,2597,2604,2611,2618,2632,2639,2646,2653,2667,2674,2681,2688,2702,2709,2716,2723,2737,2744,2751,2758,2772,2779,2786,2793,2807,2814,2821,2828,2842,2849,2856,2863,2877,2884,2891,2898,2912,2919,2926,2933,2947,2954,2961,2968,2982,2989,2996,3003,3017,3024,3031,3038,3052,3059,3066,3073,3087,3094,3101,3108,3122,3129,3136,3143,3157,3164,3171,3178,3192,3199\n"
          ],
          "name": "stdout"
        }
      ]
    },
    {
      "cell_type": "code",
      "metadata": {
        "colab": {
          "base_uri": "https://localhost:8080/"
        },
        "id": "F-kP3sOtnS3v",
        "outputId": "281a4e98-1321-4086-9d17-3f598a52ee24"
      },
      "source": [
        "list1 = []\n",
        "for i in range(2000, 3201):\n",
        "    if (i % 7 == 0) and (i % 5 != 0):\n",
        "        list1.append(str(i))\n",
        "print (','.join(list1))"
      ],
      "execution_count": 3,
      "outputs": [
        {
          "output_type": "stream",
          "text": [
            "2002,2009,2016,2023,2037,2044,2051,2058,2072,2079,2086,2093,2107,2114,2121,2128,2142,2149,2156,2163,2177,2184,2191,2198,2212,2219,2226,2233,2247,2254,2261,2268,2282,2289,2296,2303,2317,2324,2331,2338,2352,2359,2366,2373,2387,2394,2401,2408,2422,2429,2436,2443,2457,2464,2471,2478,2492,2499,2506,2513,2527,2534,2541,2548,2562,2569,2576,2583,2597,2604,2611,2618,2632,2639,2646,2653,2667,2674,2681,2688,2702,2709,2716,2723,2737,2744,2751,2758,2772,2779,2786,2793,2807,2814,2821,2828,2842,2849,2856,2863,2877,2884,2891,2898,2912,2919,2926,2933,2947,2954,2961,2968,2982,2989,2996,3003,3017,3024,3031,3038,3052,3059,3066,3073,3087,3094,3101,3108,3122,3129,3136,3143,3157,3164,3171,3178,3192,3199\n"
          ],
          "name": "stdout"
        }
      ]
    },
    {
      "cell_type": "markdown",
      "metadata": {
        "id": "uX7t00fEo69h"
      },
      "source": [
        "2. Write a Python program to accept the user's first and last name and then getting them printed in the the reverse order with a space between first name and last name."
      ]
    },
    {
      "cell_type": "code",
      "metadata": {
        "id": "vp_iKEIVpACd"
      },
      "source": [
        "def first_last(first_name, last_name):\n",
        "\n",
        "  '''\n",
        "  \n",
        "  Takes First Name and Last Name and returns it in reverse order\n",
        "\n",
        "  '''\n",
        "  \n",
        "  print(last_name, first_name)"
      ],
      "execution_count": 4,
      "outputs": []
    },
    {
      "cell_type": "code",
      "metadata": {
        "colab": {
          "base_uri": "https://localhost:8080/"
        },
        "id": "cnIJYa3lpIbc",
        "outputId": "0042fef3-18c1-48b3-cd5c-ce97205b30d6"
      },
      "source": [
        "first_last('Nagarajan', 'Nethi')"
      ],
      "execution_count": 5,
      "outputs": [
        {
          "output_type": "stream",
          "text": [
            "Nethi Nagarajan\n"
          ],
          "name": "stdout"
        }
      ]
    },
    {
      "cell_type": "markdown",
      "metadata": {
        "id": "5EcUKkv6pWGn"
      },
      "source": [
        "3. Write a Python program to find the volume of a sphere with diameter 12 cm. \n",
        "Formula: V=4/3 * π * r<sup>3</sup>"
      ]
    },
    {
      "cell_type": "code",
      "metadata": {
        "id": "dzCz2n3Qpa5u"
      },
      "source": [
        "def sphere_volume_using_radius(radius):\n",
        "  \n",
        "  '''\n",
        "  \n",
        "  Takes radius as input and returns volume of sphere\n",
        "  \n",
        "  '''\n",
        "  \n",
        "  import math\n",
        "  volume = (4/3) * (math.pi) * (pow(radius, 3))\n",
        "  return volume"
      ],
      "execution_count": 6,
      "outputs": []
    },
    {
      "cell_type": "code",
      "metadata": {
        "colab": {
          "base_uri": "https://localhost:8080/"
        },
        "id": "G6hmy1NeqTvm",
        "outputId": "c30bb7c4-1d31-493e-d381-56c4b5813afe"
      },
      "source": [
        "sphere_volume_using_radius(6)"
      ],
      "execution_count": 7,
      "outputs": [
        {
          "output_type": "execute_result",
          "data": {
            "text/plain": [
              "904.7786842338603"
            ]
          },
          "metadata": {
            "tags": []
          },
          "execution_count": 7
        }
      ]
    },
    {
      "cell_type": "code",
      "metadata": {
        "id": "WwAj5fiR_gko"
      },
      "source": [
        "def sphere_volume_using_diameter(diameter):\n",
        "\n",
        "  '''\n",
        "  \n",
        "  Takes Diameter as input and outputs the volume of sphere\n",
        "\n",
        "  '''\n",
        "\n",
        "  import math\n",
        "  volume = (4/3) * (math.pi) * (pow(diameter/2, 3))\n",
        "  return volume"
      ],
      "execution_count": 8,
      "outputs": []
    },
    {
      "cell_type": "code",
      "metadata": {
        "colab": {
          "base_uri": "https://localhost:8080/"
        },
        "id": "EggT01EH_pZK",
        "outputId": "aed00cb6-8792-40a0-afa9-af24691c9c79"
      },
      "source": [
        "sphere_volume_using_diameter(12)"
      ],
      "execution_count": 9,
      "outputs": [
        {
          "output_type": "execute_result",
          "data": {
            "text/plain": [
              "904.7786842338603"
            ]
          },
          "metadata": {
            "tags": []
          },
          "execution_count": 9
        }
      ]
    }
  ]
}