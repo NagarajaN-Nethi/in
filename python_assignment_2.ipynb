{
  "nbformat": 4,
  "nbformat_minor": 0,
  "metadata": {
    "colab": {
      "name": "python assignment 2.ipynb",
      "provenance": [],
      "collapsed_sections": [],
      "authorship_tag": "ABX9TyOy5fuXKahxb/HFuqjE466q",
      "include_colab_link": true
    },
    "kernelspec": {
      "name": "python3",
      "display_name": "Python 3"
    }
  },
  "cells": [
    {
      "cell_type": "markdown",
      "metadata": {
        "id": "view-in-github",
        "colab_type": "text"
      },
      "source": [
        "<a href=\"https://colab.research.google.com/github/NagarajaN-Nethi/in/blob/main/python_assignment_2.ipynb\" target=\"_parent\"><img src=\"https://colab.research.google.com/assets/colab-badge.svg\" alt=\"Open In Colab\"/></a>"
      ]
    },
    {
      "cell_type": "markdown",
      "metadata": {
        "id": "WOcOk2zMdgx-"
      },
      "source": [
        "1. Create the below pattern using nested for loop in Python."
      ]
    },
    {
      "cell_type": "code",
      "metadata": {
        "id": "sKZyp7asBiXI"
      },
      "source": [
        "def pattern_star(max_n):\n",
        "  for i in range(max_n):\n",
        "    for j in range(i):\n",
        "      print('*', end = ' ')\n",
        "    print('')\n",
        "  for i in range(max_n, 0, -1):\n",
        "    for j in range(i):\n",
        "      print('*', end = ' ')\n",
        "    print('')"
      ],
      "execution_count": 1,
      "outputs": []
    },
    {
      "cell_type": "code",
      "metadata": {
        "colab": {
          "base_uri": "https://localhost:8080/"
        },
        "id": "Dhj_BhildEAA",
        "outputId": "bafa536f-e337-4648-c98c-e5b837e103af"
      },
      "source": [
        "pattern_star(5)"
      ],
      "execution_count": 2,
      "outputs": [
        {
          "output_type": "stream",
          "text": [
            "\n",
            "* \n",
            "* * \n",
            "* * * \n",
            "* * * * \n",
            "* * * * * \n",
            "* * * * \n",
            "* * * \n",
            "* * \n",
            "* \n"
          ],
          "name": "stdout"
        }
      ]
    },
    {
      "cell_type": "code",
      "metadata": {
        "id": "OMrXMF9bfTCK"
      },
      "source": [
        "def pattern_(max_n, pattern = None):\n",
        "  for i in range(max_n):\n",
        "    for j in range(i):\n",
        "      print(pattern, end = ' ')\n",
        "    print('')\n",
        "  for i in range(max_n, 0, -1):\n",
        "    for j in range(i):\n",
        "      print(pattern, end = ' ')\n",
        "    print('')"
      ],
      "execution_count": 3,
      "outputs": []
    },
    {
      "cell_type": "code",
      "metadata": {
        "colab": {
          "base_uri": "https://localhost:8080/"
        },
        "id": "y-w6aNYUfTkd",
        "outputId": "28885cb3-28fa-4d8e-fc2a-d408d929cb85"
      },
      "source": [
        "pattern_(5, \"*\")"
      ],
      "execution_count": 4,
      "outputs": [
        {
          "output_type": "stream",
          "text": [
            "\n",
            "* \n",
            "* * \n",
            "* * * \n",
            "* * * * \n",
            "* * * * * \n",
            "* * * * \n",
            "* * * \n",
            "* * \n",
            "* \n"
          ],
          "name": "stdout"
        }
      ]
    },
    {
      "cell_type": "markdown",
      "metadata": {
        "id": "n7mjeLDzdqQz"
      },
      "source": [
        "2. Write a Python program to reverse a word after accepting the input from the user."
      ]
    },
    {
      "cell_type": "code",
      "metadata": {
        "id": "cQXaXTMWdNDN"
      },
      "source": [
        "def reverse_word(word):\n",
        "  return print(word[::-1])"
      ],
      "execution_count": 5,
      "outputs": []
    },
    {
      "cell_type": "code",
      "metadata": {
        "colab": {
          "base_uri": "https://localhost:8080/"
        },
        "id": "mJl8cLVWd359",
        "outputId": "e80a7cbb-9459-448f-8a13-4cf0e464823c"
      },
      "source": [
        "reverse_word('ineuron')\n",
        "reverse_word('norueni')"
      ],
      "execution_count": 6,
      "outputs": [
        {
          "output_type": "stream",
          "text": [
            "norueni\n",
            "ineuron\n"
          ],
          "name": "stdout"
        }
      ]
    }
  ]
}