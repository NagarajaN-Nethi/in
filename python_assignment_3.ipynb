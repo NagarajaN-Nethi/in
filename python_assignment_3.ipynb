{
  "nbformat": 4,
  "nbformat_minor": 0,
  "metadata": {
    "colab": {
      "name": "python assignment 3.ipynb",
      "provenance": [],
      "collapsed_sections": [],
      "authorship_tag": "ABX9TyPT1Lx379fBUQB71TzrKfYE",
      "include_colab_link": true
    },
    "kernelspec": {
      "name": "python3",
      "display_name": "Python 3"
    }
  },
  "cells": [
    {
      "cell_type": "markdown",
      "metadata": {
        "id": "view-in-github",
        "colab_type": "text"
      },
      "source": [
        "<a href=\"https://colab.research.google.com/github/NagarajaN-Nethi/in/blob/main/python_assignment_3.ipynb\" target=\"_parent\"><img src=\"https://colab.research.google.com/assets/colab-badge.svg\" alt=\"Open In Colab\"/></a>"
      ]
    },
    {
      "cell_type": "markdown",
      "metadata": {
        "id": "nD8LSxejfzWH"
      },
      "source": [
        "1.1 Write a Python Program to implement your own myreduce() function which works exactly like Python's built-in function reduce()"
      ]
    },
    {
      "cell_type": "code",
      "metadata": {
        "id": "Cq_z6e0NfleY"
      },
      "source": [
        "from functools import reduce"
      ],
      "execution_count": 1,
      "outputs": []
    },
    {
      "cell_type": "code",
      "metadata": {
        "id": "UrbEzaBcggUU"
      },
      "source": [
        "lst = [100,500,1000]"
      ],
      "execution_count": 2,
      "outputs": []
    },
    {
      "cell_type": "code",
      "metadata": {
        "id": "HtUkf5hBhICj"
      },
      "source": [
        "fun = lambda a, b : a + b"
      ],
      "execution_count": 3,
      "outputs": []
    },
    {
      "cell_type": "code",
      "metadata": {
        "colab": {
          "base_uri": "https://localhost:8080/"
        },
        "id": "0NgAL0CDjOU0",
        "outputId": "00e9f381-f9f2-489c-a843-589c003cd7f5"
      },
      "source": [
        "reduce(fun, lst)"
      ],
      "execution_count": 4,
      "outputs": [
        {
          "output_type": "execute_result",
          "data": {
            "text/plain": [
              "1600"
            ]
          },
          "metadata": {
            "tags": []
          },
          "execution_count": 4
        }
      ]
    },
    {
      "cell_type": "code",
      "metadata": {
        "id": "An_pi2MlhSNr"
      },
      "source": [
        "def myreduce(f, lst):\r\n",
        "    if len(lst) == 0:\r\n",
        "        return None\r\n",
        "    result = lst[0]\r\n",
        "    for i in range(1, len(lst)):\r\n",
        "        result = f(result, lst[i])\r\n",
        "    return result\r\n"
      ],
      "execution_count": 5,
      "outputs": []
    },
    {
      "cell_type": "code",
      "metadata": {
        "colab": {
          "base_uri": "https://localhost:8080/"
        },
        "id": "jQ-PioeDinbU",
        "outputId": "a9bb523f-af43-47a1-a9b2-694edcaa829c"
      },
      "source": [
        "myreduce(fun,lst)"
      ],
      "execution_count": 6,
      "outputs": [
        {
          "output_type": "execute_result",
          "data": {
            "text/plain": [
              "1600"
            ]
          },
          "metadata": {
            "tags": []
          },
          "execution_count": 6
        }
      ]
    },
    {
      "cell_type": "markdown",
      "metadata": {
        "id": "rD5u-ScXmvLD"
      },
      "source": [
        "1.2 Write a Python program to implement your own myfilter() function which works exactly\r\n",
        "like Python's built-in function filter()"
      ]
    },
    {
      "cell_type": "code",
      "metadata": {
        "id": "Lfd0pO9QiqNK",
        "colab": {
          "base_uri": "https://localhost:8080/"
        },
        "outputId": "27d195b9-83d4-4743-c4ab-ba9f32efdc8b"
      },
      "source": [
        "\r\n",
        "print(\"Input:\")\r\n",
        "number=int(input(\"Please insert the number: \"))\r\n",
        "\r\n",
        "num_list=list(range(1,number+1))\r\n",
        "def myfilter(num_list):\r\n",
        "    '''This function will filter even and odd numbers from list which are multiples of 5 '''\r\n",
        "    num_even_list=[]\r\n",
        "    num_odd_list=[]\r\n",
        "    \r\n",
        "    for i in num_list:\r\n",
        "        if(i%5==0):\r\n",
        "            if(i%2==0):\r\n",
        "                num_even_list.append(i)\r\n",
        "            else:\r\n",
        "                num_odd_list.append(i)\r\n",
        "                \r\n",
        "    return num_even_list,num_odd_list\r\n",
        "\r\n",
        "\r\n",
        "#Function Execution\r\n",
        "output_value=myfilter(num_list)\r\n",
        "\r\n",
        "#Output\r\n",
        "\r\n",
        "print(\"Output:\")\r\n",
        "print(\"List of numbers:\",num_list)\r\n",
        "print(\"List of Even numbers, which are multiples of 5 are:\",output_value[0])\r\n",
        "print(\"List of Odd numbers, which are multiples of 5 are:\",output_value[1])"
      ],
      "execution_count": 7,
      "outputs": [
        {
          "output_type": "stream",
          "text": [
            "Input:\n",
            "Please insert the number: 20\n",
            "Output:\n",
            "List of numbers: [1, 2, 3, 4, 5, 6, 7, 8, 9, 10, 11, 12, 13, 14, 15, 16, 17, 18, 19, 20]\n",
            "List of Even numbers, which are multiples of 5 are: [10, 20]\n",
            "List of Odd numbers, which are multiples of 5 are: [5, 15]\n"
          ],
          "name": "stdout"
        }
      ]
    },
    {
      "cell_type": "markdown",
      "metadata": {
        "id": "B6Wq0kK7I0Sn"
      },
      "source": [
        "2.\r\n",
        "\r\n",
        "Implement List comprehensions to produce the following lists.\r\n",
        "\r\n",
        "Write List comprehensions to produce the following Lists"
      ]
    },
    {
      "cell_type": "code",
      "metadata": {
        "colab": {
          "base_uri": "https://localhost:8080/"
        },
        "id": "cxX2H9h-IuBI",
        "outputId": "89b6708d-21de-48da-8a04-efb1b26376aa"
      },
      "source": [
        "[i*j for i in 'xyz' for j in range(1,5)]"
      ],
      "execution_count": 8,
      "outputs": [
        {
          "output_type": "execute_result",
          "data": {
            "text/plain": [
              "['x', 'xx', 'xxx', 'xxxx', 'y', 'yy', 'yyy', 'yyyy', 'z', 'zz', 'zzz', 'zzzz']"
            ]
          },
          "metadata": {
            "tags": []
          },
          "execution_count": 8
        }
      ]
    },
    {
      "cell_type": "code",
      "metadata": {
        "id": "cFsIsVisIucN",
        "colab": {
          "base_uri": "https://localhost:8080/"
        },
        "outputId": "3224ea24-7435-4cbb-f55f-b0e624c9ef62"
      },
      "source": [
        "[x*n for n in range(1,5) for x in ['x', 'y', 'z'] ]"
      ],
      "execution_count": 9,
      "outputs": [
        {
          "output_type": "execute_result",
          "data": {
            "text/plain": [
              "['x', 'y', 'z', 'xx', 'yy', 'zz', 'xxx', 'yyy', 'zzz', 'xxxx', 'yyyy', 'zzzz']"
            ]
          },
          "metadata": {
            "tags": []
          },
          "execution_count": 9
        }
      ]
    },
    {
      "cell_type": "code",
      "metadata": {
        "colab": {
          "base_uri": "https://localhost:8080/"
        },
        "id": "G1Dk2rIzCjIf",
        "outputId": "a51a9578-da66-452f-eb07-71b48566792f"
      },
      "source": [
        "lst = [1, 2, 3]\r\n",
        "[[x+n] for x in lst for n in range(0,3)]"
      ],
      "execution_count": 10,
      "outputs": [
        {
          "output_type": "execute_result",
          "data": {
            "text/plain": [
              "[[1], [2], [3], [2], [3], [4], [3], [4], [5]]"
            ]
          },
          "metadata": {
            "tags": []
          },
          "execution_count": 10
        }
      ]
    },
    {
      "cell_type": "code",
      "metadata": {
        "colab": {
          "base_uri": "https://localhost:8080/"
        },
        "id": "8lAZ0yJ8G_EY",
        "outputId": "40c964a8-ba21-4bc9-d539-054a05d3b0e8"
      },
      "source": [
        "input_list = [2,3,4]\r\n",
        "result = [ [item+num] for item in input_list for num in range(0,3)]\r\n",
        "print(str(result))\r\n",
        "input_list = [2,3,4,5]\r\n",
        "result = [ [item+num for item in input_list] for num in range(0,4)  ]\r\n",
        "print(str(result))"
      ],
      "execution_count": 11,
      "outputs": [
        {
          "output_type": "stream",
          "text": [
            "[[2], [3], [4], [3], [4], [5], [4], [5], [6]]\n",
            "[[2, 3, 4, 5], [3, 4, 5, 6], [4, 5, 6, 7], [5, 6, 7, 8]]\n"
          ],
          "name": "stdout"
        }
      ]
    },
    {
      "cell_type": "code",
      "metadata": {
        "id": "oxLl7IurDMxl",
        "colab": {
          "base_uri": "https://localhost:8080/"
        },
        "outputId": "60c4952f-3fff-493c-e3b2-77f62a5c6067"
      },
      "source": [
        "lst = [1, 2, 3]\r\n",
        "result = [ (b, a) for a in lst for b in lst]\r\n",
        "print(str(result))"
      ],
      "execution_count": 12,
      "outputs": [
        {
          "output_type": "stream",
          "text": [
            "[(1, 1), (2, 1), (3, 1), (1, 2), (2, 2), (3, 2), (1, 3), (2, 3), (3, 3)]\n"
          ],
          "name": "stdout"
        }
      ]
    }
  ]
}