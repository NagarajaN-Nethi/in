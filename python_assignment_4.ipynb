{
  "nbformat": 4,
  "nbformat_minor": 0,
  "metadata": {
    "colab": {
      "name": "python assignment 4.ipynb",
      "provenance": [],
      "collapsed_sections": [],
      "authorship_tag": "ABX9TyNIP5c6P5Og4DForEdB8LAG",
      "include_colab_link": true
    },
    "kernelspec": {
      "name": "python3",
      "display_name": "Python 3"
    }
  },
  "cells": [
    {
      "cell_type": "markdown",
      "metadata": {
        "id": "view-in-github",
        "colab_type": "text"
      },
      "source": [
        "<a href=\"https://colab.research.google.com/github/NagarajaN-Nethi/in/blob/main/python_assignment_4.ipynb\" target=\"_parent\"><img src=\"https://colab.research.google.com/assets/colab-badge.svg\" alt=\"Open In Colab\"/></a>"
      ]
    },
    {
      "cell_type": "markdown",
      "metadata": {
        "id": "uFFBJqgTYx9t"
      },
      "source": [
        "1.1 Write a Python Program(with class concepts) to find the area of the triangle using the below\r\n",
        "formula.\r\n",
        "\r\n",
        "area = (s*(s-a)*(s-b)*(s-c)) ** 0.5\r\n",
        "\r\n",
        "Function to take the length of the sides of triangle from user should be defined in the parent class and function to calculate the area should be defined in subclass."
      ]
    },
    {
      "cell_type": "code",
      "metadata": {
        "id": "6gCRQf31Y4Zj"
      },
      "source": [
        "class Area():\r\n",
        "\r\n",
        "  def __init__(self, a, b, c):\r\n",
        "    self.a  = float(a)\r\n",
        "    self.b  = float(b)\r\n",
        "    self.c  = float(c)\r\n",
        "\r\n",
        "  def input_side(self, a, b, c):\r\n",
        "    a  = int(input(a))\r\n",
        "    b  = int(input(b))\r\n",
        "    c  = int(input(c))\r\n",
        "\r\n",
        "\r\n",
        "class Triangle(Area):\r\n",
        "\r\n",
        "  def  __init__(self, a, b, c):\r\n",
        "    super().__init__(a, b, c)\r\n",
        "\r\n",
        "  def area_triangle(self):\r\n",
        "\r\n",
        "      s = (self.a + self.b + self.c) / 2\r\n",
        "\r\n",
        "      return (s*(s-self.a)*(s-self.b)*(s-self.c)) ** 0.5 \r\n",
        "    "
      ],
      "execution_count": 1,
      "outputs": []
    },
    {
      "cell_type": "code",
      "metadata": {
        "colab": {
          "base_uri": "https://localhost:8080/"
        },
        "id": "zN389rsTb0lX",
        "outputId": "3adaff2e-2e7f-49b3-c37f-76d0391fc759"
      },
      "source": [
        "triangle = Triangle(24, 30, 18)\r\n",
        "triangle.area_triangle()"
      ],
      "execution_count": 2,
      "outputs": [
        {
          "output_type": "execute_result",
          "data": {
            "text/plain": [
              "216.0"
            ]
          },
          "metadata": {
            "tags": []
          },
          "execution_count": 2
        }
      ]
    },
    {
      "cell_type": "markdown",
      "metadata": {
        "id": "DWf6jJ7fgmVa"
      },
      "source": [
        "1.2 Write a function filter_long_words() that takes a list of words and an integer n and returns the list of words that are longer than n."
      ]
    },
    {
      "cell_type": "code",
      "metadata": {
        "id": "jnw7cUE0mehD"
      },
      "source": [
        "lst =['first', 'firstfirst', 'firstfirstfirst']"
      ],
      "execution_count": 3,
      "outputs": []
    },
    {
      "cell_type": "code",
      "metadata": {
        "id": "Kqj-YFtyb4kE"
      },
      "source": [
        "def filter_long_words(lst, n):\r\n",
        "\r\n",
        "  list_of_words = []\r\n",
        "  for i in range(len(lst)):\r\n",
        "        if len(lst[i]) > n:\r\n",
        "          list_of_words.append(lst[i])\r\n",
        "  return  list_of_words"
      ],
      "execution_count": 4,
      "outputs": []
    },
    {
      "cell_type": "code",
      "metadata": {
        "colab": {
          "base_uri": "https://localhost:8080/"
        },
        "id": "cmJFDRolnzDA",
        "outputId": "6f9d487a-3311-436f-d83a-85cc182bffef"
      },
      "source": [
        "filter_long_words(lst, 10)"
      ],
      "execution_count": 5,
      "outputs": [
        {
          "output_type": "execute_result",
          "data": {
            "text/plain": [
              "['firstfirstfirst']"
            ]
          },
          "metadata": {
            "tags": []
          },
          "execution_count": 5
        }
      ]
    },
    {
      "cell_type": "markdown",
      "metadata": {
        "id": "NLVoow-x3YnW"
      },
      "source": [
        "2.1 Write a Python program using function concept that maps list of words into a list of integers representing the lengths of the corresponding words."
      ]
    },
    {
      "cell_type": "code",
      "metadata": {
        "id": "6ngUxtofxAvr"
      },
      "source": [
        "def list_to_num(lst):\r\n",
        "  count_ = []\r\n",
        "  for i in range(len(lst)):\r\n",
        "    count_.append(len(lst[i]))\r\n",
        "  return count_"
      ],
      "execution_count": 6,
      "outputs": []
    },
    {
      "cell_type": "code",
      "metadata": {
        "colab": {
          "base_uri": "https://localhost:8080/"
        },
        "id": "fU3p1NhR72uy",
        "outputId": "278a393c-3e67-4480-8538-f768d926ced2"
      },
      "source": [
        "list_to_num(lst)"
      ],
      "execution_count": 7,
      "outputs": [
        {
          "output_type": "execute_result",
          "data": {
            "text/plain": [
              "[5, 10, 15]"
            ]
          },
          "metadata": {
            "tags": []
          },
          "execution_count": 7
        }
      ]
    },
    {
      "cell_type": "markdown",
      "metadata": {
        "id": "XVZMTQ6R8hiS"
      },
      "source": [
        "Hint: If a list [ ab,cde,erty] is passed on to the python function output should come as [2,3,4]\r\n",
        "Here 2,3 and 4 are the lengths of the words in the list."
      ]
    },
    {
      "cell_type": "code",
      "metadata": {
        "colab": {
          "base_uri": "https://localhost:8080/"
        },
        "id": "rN_ZQrcc8ab0",
        "outputId": "c8959de2-5168-4896-ee62-4b4cc4807932"
      },
      "source": [
        "list_to_num([ 'ab','cde','erty'])"
      ],
      "execution_count": 8,
      "outputs": [
        {
          "output_type": "execute_result",
          "data": {
            "text/plain": [
              "[2, 3, 4]"
            ]
          },
          "metadata": {
            "tags": []
          },
          "execution_count": 8
        }
      ]
    },
    {
      "cell_type": "markdown",
      "metadata": {
        "id": "L5LzBTAK8WB5"
      },
      "source": [
        "2.2 Write a Python function which takes a character (i.e. a string of length 1) and returns True if it is a vowel, False otherwise."
      ]
    },
    {
      "cell_type": "code",
      "metadata": {
        "id": "S9GAsM_D76b4"
      },
      "source": [
        "def vowel_check(char):\r\n",
        "  vowels = ['a', 'e', 'i', 'o', 'u']\r\n",
        "  if char in vowels:\r\n",
        "    print(True)\r\n",
        "  else:\r\n",
        "    print(False) "
      ],
      "execution_count": 9,
      "outputs": []
    },
    {
      "cell_type": "code",
      "metadata": {
        "colab": {
          "base_uri": "https://localhost:8080/"
        },
        "id": "_i3-VNap9NsX",
        "outputId": "87a381aa-8a7e-4c5c-f97b-0f5e5fff11c5"
      },
      "source": [
        "vowel_check('a')\r\n",
        "vowel_check('b')"
      ],
      "execution_count": 10,
      "outputs": [
        {
          "output_type": "stream",
          "text": [
            "True\n",
            "False\n"
          ],
          "name": "stdout"
        }
      ]
    }
  ]
}